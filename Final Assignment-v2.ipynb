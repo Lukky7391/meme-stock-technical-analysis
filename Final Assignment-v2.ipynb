{
 "cells": [
  {
   "cell_type": "markdown",
   "id": "ee44ab90-0773-490e-b91d-d873d41e2b63",
   "metadata": {},
   "source": [
    "<p style=\"text-align:center\">\n",
    "    <a href=\"https://skills.network/?utm_medium=Exinfluencer&utm_source=Exinfluencer&utm_content=000026UJ&utm_term=10006555&utm_id=NA-SkillsNetwork-Channel-SkillsNetworkCoursesIBMDeveloperSkillsNetworkPY0220ENSkillsNetwork900-2022-01-01\" target=\"_blank\">\n",
    "    <img src=\"https://cf-courses-data.s3.us.cloud-object-storage.appdomain.cloud/assets/logos/SN_web_lightmode.png\" width=\"200\" alt=\"Skills Network Logo\">\n",
    "    </a>\n",
    "</p>\n"
   ]
  },
  {
   "cell_type": "markdown",
   "id": "c124cf46-f5a3-43dd-b851-0dca82c4cd07",
   "metadata": {},
   "source": [
    "<h1>Extracting and Visualizing Stock Data</h1>\n",
    "<h2>Description</h2>\n"
   ]
  },
  {
   "cell_type": "markdown",
   "id": "8546868b-0b32-414a-b1c9-f188dc7d5751",
   "metadata": {},
   "source": [
    "Extracting essential data from a dataset and displaying it is a necessary part of data science; therefore individuals can make correct decisions based on the data. In this assignment, you will extract some stock data, you will then display this data in a graph.\n"
   ]
  },
  {
   "cell_type": "markdown",
   "id": "b389be44-bfac-4d23-a73e-9040d4b7c481",
   "metadata": {},
   "source": [
    "<h2>Table of Contents</h2>\n",
    "<div class=\"alert alert-block alert-info\" style=\"margin-top: 20px\">\n",
    "    <ul>\n",
    "        <li>Define a Function that Makes a Graph</li>\n",
    "        <li>Question 1: Use yfinance to Extract Stock Data</li>\n",
    "        <li>Question 2: Use Webscraping to Extract Tesla Revenue Data</li>\n",
    "        <li>Question 3: Use yfinance to Extract Stock Data</li>\n",
    "        <li>Question 4: Use Webscraping to Extract GME Revenue Data</li>\n",
    "        <li>Question 5: Plot Tesla Stock Graph</li>\n",
    "        <li>Question 6: Plot GameStop Stock Graph</li>\n",
    "    </ul>\n",
    "<p>\n",
    "    Estimated Time Needed: <strong>30 min</strong></p>\n",
    "</div>\n",
    "\n",
    "<hr>\n"
   ]
  },
  {
   "cell_type": "markdown",
   "id": "5dcd8ff6-f4a8-484d-8e6f-97d450080a93",
   "metadata": {},
   "source": [
    "***Note***:- If you are working Locally using anaconda, please uncomment the following code and execute it.\n",
    "Use the version as per your python version.\n"
   ]
  },
  {
   "cell_type": "code",
   "execution_count": 1,
   "id": "7c11681e-96df-4752-8fcc-b4b25aeecd59",
   "metadata": {},
   "outputs": [
    {
     "name": "stdout",
     "output_type": "stream",
     "text": [
      "Defaulting to user installation because normal site-packages is not writeable\n",
      "Requirement already satisfied: yfinance in c:\\users\\hp\\appdata\\roaming\\python\\python313\\site-packages (0.2.65)\n",
      "Requirement already satisfied: pandas>=1.3.0 in c:\\users\\hp\\appdata\\roaming\\python\\python313\\site-packages (from yfinance) (2.3.0)\n",
      "Requirement already satisfied: numpy>=1.16.5 in c:\\users\\hp\\appdata\\roaming\\python\\python313\\site-packages (from yfinance) (2.2.3)\n",
      "Requirement already satisfied: requests>=2.31 in c:\\users\\hp\\appdata\\roaming\\python\\python313\\site-packages (from yfinance) (2.32.3)\n",
      "Requirement already satisfied: multitasking>=0.0.7 in c:\\users\\hp\\appdata\\roaming\\python\\python313\\site-packages (from yfinance) (0.0.11)\n",
      "Requirement already satisfied: platformdirs>=2.0.0 in c:\\users\\hp\\appdata\\roaming\\python\\python313\\site-packages (from yfinance) (4.3.8)\n",
      "Requirement already satisfied: pytz>=2022.5 in c:\\users\\hp\\appdata\\roaming\\python\\python313\\site-packages (from yfinance) (2025.2)\n",
      "Requirement already satisfied: frozendict>=2.3.4 in c:\\users\\hp\\appdata\\roaming\\python\\python313\\site-packages (from yfinance) (2.4.6)\n",
      "Requirement already satisfied: peewee>=3.16.2 in c:\\users\\hp\\appdata\\roaming\\python\\python313\\site-packages (from yfinance) (3.18.2)\n",
      "Requirement already satisfied: beautifulsoup4>=4.11.1 in c:\\users\\hp\\appdata\\roaming\\python\\python313\\site-packages (from yfinance) (4.13.4)\n",
      "Requirement already satisfied: curl_cffi>=0.7 in c:\\users\\hp\\appdata\\roaming\\python\\python313\\site-packages (from yfinance) (0.12.0)\n",
      "Requirement already satisfied: protobuf>=3.19.0 in c:\\users\\hp\\appdata\\roaming\\python\\python313\\site-packages (from yfinance) (6.31.1)\n",
      "Requirement already satisfied: websockets>=13.0 in c:\\users\\hp\\appdata\\roaming\\python\\python313\\site-packages (from yfinance) (15.0.1)\n",
      "Requirement already satisfied: soupsieve>1.2 in c:\\users\\hp\\appdata\\roaming\\python\\python313\\site-packages (from beautifulsoup4>=4.11.1->yfinance) (2.7)\n",
      "Requirement already satisfied: typing-extensions>=4.0.0 in c:\\users\\hp\\appdata\\roaming\\python\\python313\\site-packages (from beautifulsoup4>=4.11.1->yfinance) (4.13.2)\n",
      "Requirement already satisfied: cffi>=1.12.0 in c:\\users\\hp\\appdata\\roaming\\python\\python313\\site-packages (from curl_cffi>=0.7->yfinance) (1.17.1)\n",
      "Requirement already satisfied: certifi>=2024.2.2 in c:\\users\\hp\\appdata\\roaming\\python\\python313\\site-packages (from curl_cffi>=0.7->yfinance) (2025.4.26)\n",
      "Requirement already satisfied: pycparser in c:\\users\\hp\\appdata\\roaming\\python\\python313\\site-packages (from cffi>=1.12.0->curl_cffi>=0.7->yfinance) (2.22)\n",
      "Requirement already satisfied: python-dateutil>=2.8.2 in c:\\users\\hp\\appdata\\roaming\\python\\python313\\site-packages (from pandas>=1.3.0->yfinance) (2.9.0.post0)\n",
      "Requirement already satisfied: tzdata>=2022.7 in c:\\users\\hp\\appdata\\roaming\\python\\python313\\site-packages (from pandas>=1.3.0->yfinance) (2025.2)\n",
      "Requirement already satisfied: six>=1.5 in c:\\users\\hp\\appdata\\roaming\\python\\python313\\site-packages (from python-dateutil>=2.8.2->pandas>=1.3.0->yfinance) (1.17.0)\n",
      "Requirement already satisfied: charset-normalizer<4,>=2 in c:\\users\\hp\\appdata\\roaming\\python\\python313\\site-packages (from requests>=2.31->yfinance) (3.4.2)\n",
      "Requirement already satisfied: idna<4,>=2.5 in c:\\users\\hp\\appdata\\roaming\\python\\python313\\site-packages (from requests>=2.31->yfinance) (3.10)\n",
      "Requirement already satisfied: urllib3<3,>=1.21.1 in c:\\users\\hp\\appdata\\roaming\\python\\python313\\site-packages (from requests>=2.31->yfinance) (2.4.0)\n",
      "Defaulting to user installation because normal site-packages is not writeable\n",
      "Collecting bs4\n",
      "  Downloading bs4-0.0.2-py2.py3-none-any.whl.metadata (411 bytes)\n",
      "Requirement already satisfied: beautifulsoup4 in c:\\users\\hp\\appdata\\roaming\\python\\python313\\site-packages (from bs4) (4.13.4)\n",
      "Requirement already satisfied: soupsieve>1.2 in c:\\users\\hp\\appdata\\roaming\\python\\python313\\site-packages (from beautifulsoup4->bs4) (2.7)\n",
      "Requirement already satisfied: typing-extensions>=4.0.0 in c:\\users\\hp\\appdata\\roaming\\python\\python313\\site-packages (from beautifulsoup4->bs4) (4.13.2)\n",
      "Downloading bs4-0.0.2-py2.py3-none-any.whl (1.2 kB)\n",
      "Installing collected packages: bs4\n",
      "Successfully installed bs4-0.0.2\n",
      "Defaulting to user installation because normal site-packages is not writeable\n",
      "Requirement already satisfied: nbformat in c:\\users\\hp\\appdata\\roaming\\python\\python313\\site-packages (5.10.4)\n",
      "Requirement already satisfied: fastjsonschema>=2.15 in c:\\users\\hp\\appdata\\roaming\\python\\python313\\site-packages (from nbformat) (2.21.1)\n",
      "Requirement already satisfied: jsonschema>=2.6 in c:\\users\\hp\\appdata\\roaming\\python\\python313\\site-packages (from nbformat) (4.24.0)\n",
      "Requirement already satisfied: jupyter-core!=5.0.*,>=4.12 in c:\\users\\hp\\appdata\\roaming\\python\\python313\\site-packages (from nbformat) (5.8.1)\n",
      "Requirement already satisfied: traitlets>=5.1 in c:\\users\\hp\\appdata\\roaming\\python\\python313\\site-packages (from nbformat) (5.14.3)\n",
      "Requirement already satisfied: attrs>=22.2.0 in c:\\users\\hp\\appdata\\roaming\\python\\python313\\site-packages (from jsonschema>=2.6->nbformat) (25.3.0)\n",
      "Requirement already satisfied: jsonschema-specifications>=2023.03.6 in c:\\users\\hp\\appdata\\roaming\\python\\python313\\site-packages (from jsonschema>=2.6->nbformat) (2025.4.1)\n",
      "Requirement already satisfied: referencing>=0.28.4 in c:\\users\\hp\\appdata\\roaming\\python\\python313\\site-packages (from jsonschema>=2.6->nbformat) (0.36.2)\n",
      "Requirement already satisfied: rpds-py>=0.7.1 in c:\\users\\hp\\appdata\\roaming\\python\\python313\\site-packages (from jsonschema>=2.6->nbformat) (0.26.0)\n",
      "Requirement already satisfied: platformdirs>=2.5 in c:\\users\\hp\\appdata\\roaming\\python\\python313\\site-packages (from jupyter-core!=5.0.*,>=4.12->nbformat) (4.3.8)\n",
      "Requirement already satisfied: pywin32>=300 in c:\\users\\hp\\appdata\\roaming\\python\\python313\\site-packages (from jupyter-core!=5.0.*,>=4.12->nbformat) (310)\n",
      "Defaulting to user installation because normal site-packages is not writeable\n",
      "Collecting plotly\n",
      "  Downloading plotly-6.2.0-py3-none-any.whl.metadata (8.5 kB)\n",
      "Collecting narwhals>=1.15.1 (from plotly)\n",
      "  Downloading narwhals-1.47.1-py3-none-any.whl.metadata (11 kB)\n",
      "Requirement already satisfied: packaging in c:\\users\\hp\\appdata\\roaming\\python\\python313\\site-packages (from plotly) (24.2)\n",
      "Downloading plotly-6.2.0-py3-none-any.whl (9.6 MB)\n",
      "   ---------------------------------------- 0.0/9.6 MB ? eta -:--:--\n",
      "   ---------------------------------------- 0.0/9.6 MB ? eta -:--:--\n",
      "   ---------------------------------------- 0.0/9.6 MB ? eta -:--:--\n",
      "   - -------------------------------------- 0.3/9.6 MB ? eta -:--:--\n",
      "   - -------------------------------------- 0.3/9.6 MB ? eta -:--:--\n",
      "   -- ------------------------------------- 0.5/9.6 MB 795.0 kB/s eta 0:00:12\n",
      "   --- ------------------------------------ 0.8/9.6 MB 798.5 kB/s eta 0:00:12\n",
      "   ---- ----------------------------------- 1.0/9.6 MB 816.4 kB/s eta 0:00:11\n",
      "   ---- ----------------------------------- 1.0/9.6 MB 816.4 kB/s eta 0:00:11\n",
      "   ----- ---------------------------------- 1.3/9.6 MB 804.1 kB/s eta 0:00:11\n",
      "   ----- ---------------------------------- 1.3/9.6 MB 804.1 kB/s eta 0:00:11\n",
      "   ------ --------------------------------- 1.6/9.6 MB 805.3 kB/s eta 0:00:11\n",
      "   ------- -------------------------------- 1.8/9.6 MB 827.7 kB/s eta 0:00:10\n",
      "   -------- ------------------------------- 2.1/9.6 MB 853.6 kB/s eta 0:00:09\n",
      "   --------- ------------------------------ 2.4/9.6 MB 870.9 kB/s eta 0:00:09\n",
      "   ---------- ----------------------------- 2.6/9.6 MB 894.5 kB/s eta 0:00:08\n",
      "   ---------- ----------------------------- 2.6/9.6 MB 894.5 kB/s eta 0:00:08\n",
      "   ----------- ---------------------------- 2.9/9.6 MB 912.6 kB/s eta 0:00:08\n",
      "   ------------- -------------------------- 3.1/9.6 MB 931.3 kB/s eta 0:00:07\n",
      "   -------------- ------------------------- 3.4/9.6 MB 945.3 kB/s eta 0:00:07\n",
      "   --------------- ------------------------ 3.7/9.6 MB 962.6 kB/s eta 0:00:07\n",
      "   ---------------- ----------------------- 3.9/9.6 MB 979.0 kB/s eta 0:00:06\n",
      "   ----------------- ---------------------- 4.2/9.6 MB 994.3 kB/s eta 0:00:06\n",
      "   ------------------ --------------------- 4.5/9.6 MB 1.0 MB/s eta 0:00:06\n",
      "   ------------------- -------------------- 4.7/9.6 MB 1.0 MB/s eta 0:00:05\n",
      "   -------------------- ------------------- 5.0/9.6 MB 1.0 MB/s eta 0:00:05\n",
      "   --------------------- ------------------ 5.2/9.6 MB 1.0 MB/s eta 0:00:05\n",
      "   ---------------------- ----------------- 5.5/9.6 MB 1.1 MB/s eta 0:00:04\n",
      "   ------------------------- -------------- 6.0/9.6 MB 1.1 MB/s eta 0:00:04\n",
      "   -------------------------- ------------- 6.3/9.6 MB 1.1 MB/s eta 0:00:04\n",
      "   --------------------------- ------------ 6.6/9.6 MB 1.1 MB/s eta 0:00:03\n",
      "   ----------------------------- ---------- 7.1/9.6 MB 1.1 MB/s eta 0:00:03\n",
      "   ------------------------------ --------- 7.3/9.6 MB 1.2 MB/s eta 0:00:02\n",
      "   ------------------------------- -------- 7.6/9.6 MB 1.2 MB/s eta 0:00:02\n",
      "   --------------------------------- ------ 8.1/9.6 MB 1.2 MB/s eta 0:00:02\n",
      "   ----------------------------------- ---- 8.7/9.6 MB 1.2 MB/s eta 0:00:01\n",
      "   -------------------------------------- - 9.2/9.6 MB 1.3 MB/s eta 0:00:01\n",
      "   ---------------------------------------- 9.6/9.6 MB 1.3 MB/s eta 0:00:00\n",
      "Downloading narwhals-1.47.1-py3-none-any.whl (375 kB)\n",
      "Installing collected packages: narwhals, plotly\n",
      "\n",
      "   ---------------------------------------- 0/2 [narwhals]\n",
      "   ---------------------------------------- 0/2 [narwhals]\n",
      "   ---------------------------------------- 0/2 [narwhals]\n",
      "   ---------------------------------------- 0/2 [narwhals]\n",
      "   ---------------------------------------- 0/2 [narwhals]\n",
      "   ---------------------------------------- 0/2 [narwhals]\n",
      "   ---------------------------------------- 0/2 [narwhals]\n",
      "   ---------------------------------------- 0/2 [narwhals]\n",
      "   ---------------------------------------- 0/2 [narwhals]\n",
      "   ---------------------------------------- 0/2 [narwhals]\n",
      "   ---------------------------------------- 0/2 [narwhals]\n",
      "   ---------------------------------------- 0/2 [narwhals]\n",
      "   ---------------------------------------- 0/2 [narwhals]\n",
      "   ---------------------------------------- 0/2 [narwhals]\n",
      "   ---------------------------------------- 0/2 [narwhals]\n",
      "   ---------------------------------------- 0/2 [narwhals]\n",
      "   ---------------------------------------- 0/2 [narwhals]\n",
      "   ---------------------------------------- 0/2 [narwhals]\n",
      "   ---------------------------------------- 0/2 [narwhals]\n",
      "   ---------------------------------------- 0/2 [narwhals]\n",
      "   ---------------------------------------- 0/2 [narwhals]\n",
      "   ---------------------------------------- 0/2 [narwhals]\n",
      "   -------------------- ------------------- 1/2 [plotly]\n",
      "   -------------------- ------------------- 1/2 [plotly]\n",
      "   -------------------- ------------------- 1/2 [plotly]\n",
      "   -------------------- ------------------- 1/2 [plotly]\n",
      "   -------------------- ------------------- 1/2 [plotly]\n",
      "   -------------------- ------------------- 1/2 [plotly]\n",
      "   -------------------- ------------------- 1/2 [plotly]\n",
      "   -------------------- ------------------- 1/2 [plotly]\n",
      "   -------------------- ------------------- 1/2 [plotly]\n",
      "   -------------------- ------------------- 1/2 [plotly]\n",
      "   -------------------- ------------------- 1/2 [plotly]\n",
      "   -------------------- ------------------- 1/2 [plotly]\n",
      "   -------------------- ------------------- 1/2 [plotly]\n",
      "   -------------------- ------------------- 1/2 [plotly]\n",
      "   -------------------- ------------------- 1/2 [plotly]\n",
      "   -------------------- ------------------- 1/2 [plotly]\n",
      "   -------------------- ------------------- 1/2 [plotly]\n",
      "   -------------------- ------------------- 1/2 [plotly]\n",
      "   -------------------- ------------------- 1/2 [plotly]\n",
      "   -------------------- ------------------- 1/2 [plotly]\n",
      "   -------------------- ------------------- 1/2 [plotly]\n",
      "   -------------------- ------------------- 1/2 [plotly]\n",
      "   -------------------- ------------------- 1/2 [plotly]\n",
      "   -------------------- ------------------- 1/2 [plotly]\n",
      "   -------------------- ------------------- 1/2 [plotly]\n",
      "   -------------------- ------------------- 1/2 [plotly]\n",
      "   -------------------- ------------------- 1/2 [plotly]\n",
      "   -------------------- ------------------- 1/2 [plotly]\n",
      "   -------------------- ------------------- 1/2 [plotly]\n",
      "   -------------------- ------------------- 1/2 [plotly]\n",
      "   -------------------- ------------------- 1/2 [plotly]\n",
      "   -------------------- ------------------- 1/2 [plotly]\n",
      "   -------------------- ------------------- 1/2 [plotly]\n",
      "   -------------------- ------------------- 1/2 [plotly]\n",
      "   -------------------- ------------------- 1/2 [plotly]\n",
      "   -------------------- ------------------- 1/2 [plotly]\n",
      "   -------------------- ------------------- 1/2 [plotly]\n",
      "   -------------------- ------------------- 1/2 [plotly]\n",
      "   -------------------- ------------------- 1/2 [plotly]\n",
      "   -------------------- ------------------- 1/2 [plotly]\n",
      "   -------------------- ------------------- 1/2 [plotly]\n",
      "   -------------------- ------------------- 1/2 [plotly]\n",
      "   -------------------- ------------------- 1/2 [plotly]\n",
      "   -------------------- ------------------- 1/2 [plotly]\n",
      "   -------------------- ------------------- 1/2 [plotly]\n",
      "   -------------------- ------------------- 1/2 [plotly]\n",
      "   -------------------- ------------------- 1/2 [plotly]\n",
      "   -------------------- ------------------- 1/2 [plotly]\n",
      "   -------------------- ------------------- 1/2 [plotly]\n",
      "   -------------------- ------------------- 1/2 [plotly]\n",
      "   -------------------- ------------------- 1/2 [plotly]\n",
      "   -------------------- ------------------- 1/2 [plotly]\n",
      "   -------------------- ------------------- 1/2 [plotly]\n",
      "   -------------------- ------------------- 1/2 [plotly]\n",
      "   -------------------- ------------------- 1/2 [plotly]\n",
      "   -------------------- ------------------- 1/2 [plotly]\n",
      "   -------------------- ------------------- 1/2 [plotly]\n",
      "   -------------------- ------------------- 1/2 [plotly]\n",
      "   -------------------- ------------------- 1/2 [plotly]\n",
      "   -------------------- ------------------- 1/2 [plotly]\n",
      "   -------------------- ------------------- 1/2 [plotly]\n",
      "   -------------------- ------------------- 1/2 [plotly]\n",
      "   -------------------- ------------------- 1/2 [plotly]\n",
      "   -------------------- ------------------- 1/2 [plotly]\n",
      "   -------------------- ------------------- 1/2 [plotly]\n",
      "   -------------------- ------------------- 1/2 [plotly]\n",
      "   -------------------- ------------------- 1/2 [plotly]\n",
      "   -------------------- ------------------- 1/2 [plotly]\n",
      "   -------------------- ------------------- 1/2 [plotly]\n",
      "   -------------------- ------------------- 1/2 [plotly]\n",
      "   -------------------- ------------------- 1/2 [plotly]\n",
      "   -------------------- ------------------- 1/2 [plotly]\n",
      "   -------------------- ------------------- 1/2 [plotly]\n",
      "   -------------------- ------------------- 1/2 [plotly]\n",
      "   -------------------- ------------------- 1/2 [plotly]\n",
      "   -------------------- ------------------- 1/2 [plotly]\n",
      "   -------------------- ------------------- 1/2 [plotly]\n",
      "   -------------------- ------------------- 1/2 [plotly]\n",
      "   -------------------- ------------------- 1/2 [plotly]\n",
      "   -------------------- ------------------- 1/2 [plotly]\n",
      "   -------------------- ------------------- 1/2 [plotly]\n",
      "   -------------------- ------------------- 1/2 [plotly]\n",
      "   -------------------- ------------------- 1/2 [plotly]\n",
      "   -------------------- ------------------- 1/2 [plotly]\n",
      "   -------------------- ------------------- 1/2 [plotly]\n",
      "   -------------------- ------------------- 1/2 [plotly]\n",
      "   -------------------- ------------------- 1/2 [plotly]\n",
      "   -------------------- ------------------- 1/2 [plotly]\n",
      "   -------------------- ------------------- 1/2 [plotly]\n",
      "   -------------------- ------------------- 1/2 [plotly]\n",
      "   -------------------- ------------------- 1/2 [plotly]\n",
      "   -------------------- ------------------- 1/2 [plotly]\n",
      "   -------------------- ------------------- 1/2 [plotly]\n",
      "   -------------------- ------------------- 1/2 [plotly]\n",
      "   -------------------- ------------------- 1/2 [plotly]\n",
      "   -------------------- ------------------- 1/2 [plotly]\n",
      "   -------------------- ------------------- 1/2 [plotly]\n",
      "   -------------------- ------------------- 1/2 [plotly]\n",
      "   -------------------- ------------------- 1/2 [plotly]\n",
      "   -------------------- ------------------- 1/2 [plotly]\n",
      "   -------------------- ------------------- 1/2 [plotly]\n",
      "   -------------------- ------------------- 1/2 [plotly]\n",
      "   -------------------- ------------------- 1/2 [plotly]\n",
      "   -------------------- ------------------- 1/2 [plotly]\n",
      "   -------------------- ------------------- 1/2 [plotly]\n",
      "   -------------------- ------------------- 1/2 [plotly]\n",
      "   -------------------- ------------------- 1/2 [plotly]\n",
      "   -------------------- ------------------- 1/2 [plotly]\n",
      "   -------------------- ------------------- 1/2 [plotly]\n",
      "   -------------------- ------------------- 1/2 [plotly]\n",
      "   -------------------- ------------------- 1/2 [plotly]\n",
      "   -------------------- ------------------- 1/2 [plotly]\n",
      "   -------------------- ------------------- 1/2 [plotly]\n",
      "   -------------------- ------------------- 1/2 [plotly]\n",
      "   -------------------- ------------------- 1/2 [plotly]\n",
      "   -------------------- ------------------- 1/2 [plotly]\n",
      "   -------------------- ------------------- 1/2 [plotly]\n",
      "   -------------------- ------------------- 1/2 [plotly]\n",
      "   -------------------- ------------------- 1/2 [plotly]\n",
      "   -------------------- ------------------- 1/2 [plotly]\n",
      "   -------------------- ------------------- 1/2 [plotly]\n",
      "   -------------------- ------------------- 1/2 [plotly]\n",
      "   -------------------- ------------------- 1/2 [plotly]\n",
      "   -------------------- ------------------- 1/2 [plotly]\n",
      "   -------------------- ------------------- 1/2 [plotly]\n",
      "   -------------------- ------------------- 1/2 [plotly]\n",
      "   -------------------- ------------------- 1/2 [plotly]\n",
      "   -------------------- ------------------- 1/2 [plotly]\n",
      "   -------------------- ------------------- 1/2 [plotly]\n",
      "   -------------------- ------------------- 1/2 [plotly]\n",
      "   -------------------- ------------------- 1/2 [plotly]\n",
      "   -------------------- ------------------- 1/2 [plotly]\n",
      "   -------------------- ------------------- 1/2 [plotly]\n",
      "   -------------------- ------------------- 1/2 [plotly]\n",
      "   -------------------- ------------------- 1/2 [plotly]\n",
      "   -------------------- ------------------- 1/2 [plotly]\n",
      "   -------------------- ------------------- 1/2 [plotly]\n",
      "   -------------------- ------------------- 1/2 [plotly]\n",
      "   -------------------- ------------------- 1/2 [plotly]\n",
      "   -------------------- ------------------- 1/2 [plotly]\n",
      "   -------------------- ------------------- 1/2 [plotly]\n",
      "   -------------------- ------------------- 1/2 [plotly]\n",
      "   -------------------- ------------------- 1/2 [plotly]\n",
      "   -------------------- ------------------- 1/2 [plotly]\n",
      "   -------------------- ------------------- 1/2 [plotly]\n",
      "   -------------------- ------------------- 1/2 [plotly]\n",
      "   -------------------- ------------------- 1/2 [plotly]\n",
      "   -------------------- ------------------- 1/2 [plotly]\n",
      "   -------------------- ------------------- 1/2 [plotly]\n",
      "   -------------------- ------------------- 1/2 [plotly]\n",
      "   -------------------- ------------------- 1/2 [plotly]\n",
      "   -------------------- ------------------- 1/2 [plotly]\n",
      "   -------------------- ------------------- 1/2 [plotly]\n",
      "   -------------------- ------------------- 1/2 [plotly]\n",
      "   -------------------- ------------------- 1/2 [plotly]\n",
      "   -------------------- ------------------- 1/2 [plotly]\n",
      "   -------------------- ------------------- 1/2 [plotly]\n",
      "   -------------------- ------------------- 1/2 [plotly]\n",
      "   -------------------- ------------------- 1/2 [plotly]\n",
      "   -------------------- ------------------- 1/2 [plotly]\n",
      "   -------------------- ------------------- 1/2 [plotly]\n",
      "   -------------------- ------------------- 1/2 [plotly]\n",
      "   -------------------- ------------------- 1/2 [plotly]\n",
      "   -------------------- ------------------- 1/2 [plotly]\n",
      "   -------------------- ------------------- 1/2 [plotly]\n",
      "   -------------------- ------------------- 1/2 [plotly]\n",
      "   -------------------- ------------------- 1/2 [plotly]\n",
      "   -------------------- ------------------- 1/2 [plotly]\n",
      "   -------------------- ------------------- 1/2 [plotly]\n",
      "   -------------------- ------------------- 1/2 [plotly]\n",
      "   -------------------- ------------------- 1/2 [plotly]\n",
      "   -------------------- ------------------- 1/2 [plotly]\n",
      "   -------------------- ------------------- 1/2 [plotly]\n",
      "   -------------------- ------------------- 1/2 [plotly]\n",
      "   -------------------- ------------------- 1/2 [plotly]\n",
      "   -------------------- ------------------- 1/2 [plotly]\n",
      "   -------------------- ------------------- 1/2 [plotly]\n",
      "   -------------------- ------------------- 1/2 [plotly]\n",
      "   -------------------- ------------------- 1/2 [plotly]\n",
      "   -------------------- ------------------- 1/2 [plotly]\n",
      "   -------------------- ------------------- 1/2 [plotly]\n",
      "   -------------------- ------------------- 1/2 [plotly]\n",
      "   -------------------- ------------------- 1/2 [plotly]\n",
      "   -------------------- ------------------- 1/2 [plotly]\n",
      "   -------------------- ------------------- 1/2 [plotly]\n",
      "   -------------------- ------------------- 1/2 [plotly]\n",
      "   -------------------- ------------------- 1/2 [plotly]\n",
      "   -------------------- ------------------- 1/2 [plotly]\n",
      "   -------------------- ------------------- 1/2 [plotly]\n",
      "   -------------------- ------------------- 1/2 [plotly]\n",
      "   -------------------- ------------------- 1/2 [plotly]\n",
      "   -------------------- ------------------- 1/2 [plotly]\n",
      "   -------------------- ------------------- 1/2 [plotly]\n",
      "   -------------------- ------------------- 1/2 [plotly]\n",
      "   -------------------- ------------------- 1/2 [plotly]\n",
      "   -------------------- ------------------- 1/2 [plotly]\n",
      "   -------------------- ------------------- 1/2 [plotly]\n",
      "   -------------------- ------------------- 1/2 [plotly]\n",
      "   -------------------- ------------------- 1/2 [plotly]\n",
      "   -------------------- ------------------- 1/2 [plotly]\n",
      "   -------------------- ------------------- 1/2 [plotly]\n",
      "   -------------------- ------------------- 1/2 [plotly]\n",
      "   -------------------- ------------------- 1/2 [plotly]\n",
      "   -------------------- ------------------- 1/2 [plotly]\n",
      "   -------------------- ------------------- 1/2 [plotly]\n",
      "   -------------------- ------------------- 1/2 [plotly]\n",
      "   -------------------- ------------------- 1/2 [plotly]\n",
      "   -------------------- ------------------- 1/2 [plotly]\n",
      "   -------------------- ------------------- 1/2 [plotly]\n",
      "   -------------------- ------------------- 1/2 [plotly]\n",
      "   -------------------- ------------------- 1/2 [plotly]\n",
      "   -------------------- ------------------- 1/2 [plotly]\n",
      "   -------------------- ------------------- 1/2 [plotly]\n",
      "   -------------------- ------------------- 1/2 [plotly]\n",
      "   -------------------- ------------------- 1/2 [plotly]\n",
      "   -------------------- ------------------- 1/2 [plotly]\n",
      "   -------------------- ------------------- 1/2 [plotly]\n",
      "   -------------------- ------------------- 1/2 [plotly]\n",
      "   -------------------- ------------------- 1/2 [plotly]\n",
      "   -------------------- ------------------- 1/2 [plotly]\n",
      "   -------------------- ------------------- 1/2 [plotly]\n",
      "   -------------------- ------------------- 1/2 [plotly]\n",
      "   -------------------- ------------------- 1/2 [plotly]\n",
      "   -------------------- ------------------- 1/2 [plotly]\n",
      "   -------------------- ------------------- 1/2 [plotly]\n",
      "   -------------------- ------------------- 1/2 [plotly]\n",
      "   -------------------- ------------------- 1/2 [plotly]\n",
      "   -------------------- ------------------- 1/2 [plotly]\n",
      "   -------------------- ------------------- 1/2 [plotly]\n",
      "   -------------------- ------------------- 1/2 [plotly]\n",
      "   -------------------- ------------------- 1/2 [plotly]\n",
      "   -------------------- ------------------- 1/2 [plotly]\n",
      "   -------------------- ------------------- 1/2 [plotly]\n",
      "   -------------------- ------------------- 1/2 [plotly]\n",
      "   ---------------------------------------- 2/2 [plotly]\n",
      "\n",
      "Successfully installed narwhals-1.47.1 plotly-6.2.0\n"
     ]
    }
   ],
   "source": [
    "!pip install yfinance\n",
    "!pip install bs4\n",
    "!pip install nbformat\n",
    "!pip install --upgrade plotly"
   ]
  },
  {
   "cell_type": "code",
   "execution_count": 2,
   "id": "3dec5d0b-4b18-4031-b3bb-5e379c5610fa",
   "metadata": {},
   "outputs": [],
   "source": [
    "import yfinance as yf\n",
    "import pandas as pd\n",
    "import requests\n",
    "from bs4 import BeautifulSoup\n",
    "import plotly.graph_objects as go\n",
    "from plotly.subplots import make_subplots"
   ]
  },
  {
   "cell_type": "code",
   "execution_count": 3,
   "id": "7c62b370-f449-4ea3-a214-032a29690a59",
   "metadata": {},
   "outputs": [],
   "source": [
    "import plotly.io as pio\n",
    "pio.renderers.default = \"iframe\""
   ]
  },
  {
   "cell_type": "markdown",
   "id": "d263a878-4749-4e6f-978d-845949242c24",
   "metadata": {},
   "source": [
    "In Python, you can ignore warnings using the warnings module. You can use the filterwarnings function to filter or ignore specific warning messages or categories.\n"
   ]
  },
  {
   "cell_type": "code",
   "execution_count": 4,
   "id": "1991fb91-dfff-48bc-8608-6c0522e4efc7",
   "metadata": {},
   "outputs": [],
   "source": [
    "import warnings\n",
    "# Ignore all warnings\n",
    "warnings.filterwarnings(\"ignore\", category=FutureWarning)"
   ]
  },
  {
   "cell_type": "markdown",
   "id": "245f3057-3c80-4ff6-af81-ff37f1a2f4f1",
   "metadata": {},
   "source": [
    "## Define Graphing Function\n"
   ]
  },
  {
   "cell_type": "markdown",
   "id": "58d2fc0e-0d53-4bde-be61-73b3e0c8a1dc",
   "metadata": {},
   "source": [
    "In this section, we define the function `make_graph`. **You don't have to know how the function works, you should only care about the inputs. It takes a dataframe with stock data (dataframe must contain Date and Close columns), a dataframe with revenue data (dataframe must contain Date and Revenue columns), and the name of the stock.**\n"
   ]
  },
  {
   "cell_type": "code",
   "execution_count": 5,
   "id": "35bdc092-02e5-4a85-b12b-e7f072208719",
   "metadata": {},
   "outputs": [],
   "source": [
    "def make_graph(stock_data, revenue_data, stock):\n",
    "    fig = make_subplots(rows=2, cols=1, shared_xaxes=True, subplot_titles=(\"Historical Share Price\", \"Historical Revenue\"), vertical_spacing = .3)\n",
    "    stock_data_specific = stock_data[stock_data.Date <= '2021-06-14']\n",
    "    revenue_data_specific = revenue_data[revenue_data.Date <= '2021-04-30']\n",
    "    fig.add_trace(go.Scatter(x=pd.to_datetime(stock_data_specific.Date, infer_datetime_format=True), y=stock_data_specific.Close.astype(\"float\"), name=\"Share Price\"), row=1, col=1)\n",
    "    fig.add_trace(go.Scatter(x=pd.to_datetime(revenue_data_specific.Date, infer_datetime_format=True), y=revenue_data_specific.Revenue.astype(\"float\"), name=\"Revenue\"), row=2, col=1)\n",
    "    fig.update_xaxes(title_text=\"Date\", row=1, col=1)\n",
    "    fig.update_xaxes(title_text=\"Date\", row=2, col=1)\n",
    "    fig.update_yaxes(title_text=\"Price ($US)\", row=1, col=1)\n",
    "    fig.update_yaxes(title_text=\"Revenue ($US Millions)\", row=2, col=1)\n",
    "    fig.update_layout(showlegend=False,\n",
    "    height=900,\n",
    "    title=stock,\n",
    "    xaxis_rangeslider_visible=True)\n",
    "    fig.show()\n",
    "    from IPython.display import display, HTML\n",
    "    fig_html = fig.to_html()\n",
    "    display(HTML(fig_html))"
   ]
  },
  {
   "cell_type": "markdown",
   "id": "82ed5ca9-7f4f-45ef-8638-7c2f4f9f45d5",
   "metadata": {},
   "source": [
    "Use the make_graph function that we’ve already defined. You’ll need to invoke it in questions 5 and 6 to display the graphs and create the dashboard. \n",
    "> **Note: You don’t need to redefine the function for plotting graphs anywhere else in this notebook; just use the existing function.**\n"
   ]
  },
  {
   "cell_type": "markdown",
   "id": "068dd708-41bd-43dc-842c-6661eab0ae36",
   "metadata": {},
   "source": [
    "## Question 1: Use yfinance to Extract Stock Data\n"
   ]
  },
  {
   "cell_type": "markdown",
   "id": "dfbc390d-cd90-4821-8f60-b2d8b56abcdc",
   "metadata": {},
   "source": [
    "Using the `Ticker` function enter the ticker symbol of the stock we want to extract data on to create a ticker object. The stock is Tesla and its ticker symbol is `TSLA`.\n"
   ]
  },
  {
   "cell_type": "code",
   "execution_count": 6,
   "id": "41b3563e-d177-4b0b-bc51-a72e76da238a",
   "metadata": {},
   "outputs": [],
   "source": [
    "tesla = yf.Ticker(\"TSLA\")"
   ]
  },
  {
   "cell_type": "markdown",
   "id": "20fcdb36-e9c5-4f2a-9033-c24c90549207",
   "metadata": {},
   "source": [
    "Using the ticker object and the function `history` extract stock information and save it in a dataframe named `tesla_data`. Set the `period` parameter to ` \"max\" ` so we get information for the maximum amount of time.\n"
   ]
  },
  {
   "cell_type": "code",
   "execution_count": 7,
   "id": "ad79d25e-5ef9-45ee-9e18-d62f6a12c987",
   "metadata": {},
   "outputs": [],
   "source": [
    "tesla_data = tesla.history(period=\"max\")"
   ]
  },
  {
   "cell_type": "markdown",
   "id": "50989957-b91e-4651-91bb-0e59439b6e9a",
   "metadata": {},
   "source": [
    "**Reset the index** using the `reset_index(inplace=True)` function on the tesla_data DataFrame and display the first five rows of the `tesla_data` dataframe using the `head` function. Take a screenshot of the results and code from the beginning of Question 1 to the results below.\n"
   ]
  },
  {
   "cell_type": "code",
   "execution_count": 8,
   "id": "1c028fd7-51f8-4444-bfa6-86c17afa5ae8",
   "metadata": {},
   "outputs": [
    {
     "data": {
      "text/html": [
       "<div>\n",
       "<style scoped>\n",
       "    .dataframe tbody tr th:only-of-type {\n",
       "        vertical-align: middle;\n",
       "    }\n",
       "\n",
       "    .dataframe tbody tr th {\n",
       "        vertical-align: top;\n",
       "    }\n",
       "\n",
       "    .dataframe thead th {\n",
       "        text-align: right;\n",
       "    }\n",
       "</style>\n",
       "<table border=\"1\" class=\"dataframe\">\n",
       "  <thead>\n",
       "    <tr style=\"text-align: right;\">\n",
       "      <th></th>\n",
       "      <th>Date</th>\n",
       "      <th>Open</th>\n",
       "      <th>High</th>\n",
       "      <th>Low</th>\n",
       "      <th>Close</th>\n",
       "      <th>Volume</th>\n",
       "      <th>Dividends</th>\n",
       "      <th>Stock Splits</th>\n",
       "    </tr>\n",
       "  </thead>\n",
       "  <tbody>\n",
       "    <tr>\n",
       "      <th>0</th>\n",
       "      <td>2010-06-29 00:00:00-04:00</td>\n",
       "      <td>1.266667</td>\n",
       "      <td>1.666667</td>\n",
       "      <td>1.169333</td>\n",
       "      <td>1.592667</td>\n",
       "      <td>281494500</td>\n",
       "      <td>0.0</td>\n",
       "      <td>0.0</td>\n",
       "    </tr>\n",
       "    <tr>\n",
       "      <th>1</th>\n",
       "      <td>2010-06-30 00:00:00-04:00</td>\n",
       "      <td>1.719333</td>\n",
       "      <td>2.028000</td>\n",
       "      <td>1.553333</td>\n",
       "      <td>1.588667</td>\n",
       "      <td>257806500</td>\n",
       "      <td>0.0</td>\n",
       "      <td>0.0</td>\n",
       "    </tr>\n",
       "    <tr>\n",
       "      <th>2</th>\n",
       "      <td>2010-07-01 00:00:00-04:00</td>\n",
       "      <td>1.666667</td>\n",
       "      <td>1.728000</td>\n",
       "      <td>1.351333</td>\n",
       "      <td>1.464000</td>\n",
       "      <td>123282000</td>\n",
       "      <td>0.0</td>\n",
       "      <td>0.0</td>\n",
       "    </tr>\n",
       "    <tr>\n",
       "      <th>3</th>\n",
       "      <td>2010-07-02 00:00:00-04:00</td>\n",
       "      <td>1.533333</td>\n",
       "      <td>1.540000</td>\n",
       "      <td>1.247333</td>\n",
       "      <td>1.280000</td>\n",
       "      <td>77097000</td>\n",
       "      <td>0.0</td>\n",
       "      <td>0.0</td>\n",
       "    </tr>\n",
       "    <tr>\n",
       "      <th>4</th>\n",
       "      <td>2010-07-06 00:00:00-04:00</td>\n",
       "      <td>1.333333</td>\n",
       "      <td>1.333333</td>\n",
       "      <td>1.055333</td>\n",
       "      <td>1.074000</td>\n",
       "      <td>103003500</td>\n",
       "      <td>0.0</td>\n",
       "      <td>0.0</td>\n",
       "    </tr>\n",
       "  </tbody>\n",
       "</table>\n",
       "</div>"
      ],
      "text/plain": [
       "                       Date      Open      High       Low     Close  \\\n",
       "0 2010-06-29 00:00:00-04:00  1.266667  1.666667  1.169333  1.592667   \n",
       "1 2010-06-30 00:00:00-04:00  1.719333  2.028000  1.553333  1.588667   \n",
       "2 2010-07-01 00:00:00-04:00  1.666667  1.728000  1.351333  1.464000   \n",
       "3 2010-07-02 00:00:00-04:00  1.533333  1.540000  1.247333  1.280000   \n",
       "4 2010-07-06 00:00:00-04:00  1.333333  1.333333  1.055333  1.074000   \n",
       "\n",
       "      Volume  Dividends  Stock Splits  \n",
       "0  281494500        0.0           0.0  \n",
       "1  257806500        0.0           0.0  \n",
       "2  123282000        0.0           0.0  \n",
       "3   77097000        0.0           0.0  \n",
       "4  103003500        0.0           0.0  "
      ]
     },
     "execution_count": 8,
     "metadata": {},
     "output_type": "execute_result"
    }
   ],
   "source": [
    "tesla_data.reset_index(inplace=True)\n",
    "tesla_data.head()"
   ]
  },
  {
   "cell_type": "markdown",
   "id": "841964ed-9a53-44db-bd2b-7ad61572d12b",
   "metadata": {},
   "source": [
    "## Question 2: Use Webscraping to Extract Tesla Revenue Data\n"
   ]
  },
  {
   "cell_type": "markdown",
   "id": "44e38a9e-47ff-4d07-b2b5-c51a483eeb50",
   "metadata": {},
   "source": [
    "Use the `requests` library to download the webpage https://cf-courses-data.s3.us.cloud-object-storage.appdomain.cloud/IBMDeveloperSkillsNetwork-PY0220EN-SkillsNetwork/labs/project/revenue.htm Save the text of the response as a variable named `html_data`.\n"
   ]
  },
  {
   "cell_type": "code",
   "execution_count": 9,
   "id": "df82e112-f7dc-4105-8459-4201258ef5d9",
   "metadata": {},
   "outputs": [
    {
     "name": "stdout",
     "output_type": "stream",
     "text": [
      "Webpage downloaded successfully!\n"
     ]
    }
   ],
   "source": [
    "import requests\n",
    "\n",
    "# URL of the webpage to download\n",
    "url = \"https://cf-courses-data.s3.us.cloud-object-storage.appdomain.cloud/IBMDeveloperSkillsNetwork-PY0220EN-SkillsNetwork/labs/project/revenue.htm\"\n",
    "\n",
    "# Send a GET request to the URL\n",
    "response = requests.get(url)\n",
    "\n",
    "# Save the text content of the response\n",
    "html_data = response.text\n",
    "\n",
    "# Optional: Verify the request was successful (status code 200)\n",
    "if response.status_code == 200:\n",
    "    print(\"Webpage downloaded successfully!\")\n",
    "else:\n",
    "    print(f\"Failed to download webpage. Status code: {response.status_code}\")"
   ]
  },
  {
   "cell_type": "markdown",
   "id": "a90a826f-512a-4e45-8c10-7420567721e2",
   "metadata": {},
   "source": [
    "Parse the html data using `beautiful_soup` using parser i.e `html5lib` or `html.parser`.\n"
   ]
  },
  {
   "cell_type": "code",
   "execution_count": 11,
   "id": "c112e431-243d-4821-975a-0eee3d3928f1",
   "metadata": {},
   "outputs": [
    {
     "name": "stdout",
     "output_type": "stream",
     "text": [
      "Downloading webpage...\n",
      "\n",
      "Attempting to parse HTML...\n",
      "html5lib parser not available: Couldn't find a tree builder with the features you requested: html5lib. Do you need to install a parser library?\n",
      "Falling back to html.parser...\n",
      "Successfully parsed with html.parser\n",
      "\n",
      "Found 6 table(s) in the document\n",
      "\n",
      "First 200 characters of parsed HTML:\n",
      "\n",
      "<!DOCTYPE html>\n",
      "\n",
      "<!--[if lt IE 7]>      <html class=\"no-js lt-ie9 lt-ie8 lt-ie7\"> <![endif]-->\n",
      "<!--[if IE 7]>         <html class=\"no-js lt-ie9 lt-ie8\"> <![endif]-->\n",
      "<!--[if IE 8]>         <html clas...\n"
     ]
    }
   ],
   "source": [
    "import requests\n",
    "from bs4 import BeautifulSoup\n",
    "\n",
    "def get_and_parse_webpage(url):\n",
    "    try:\n",
    "        # 1. Download the webpage\n",
    "        print(\"Downloading webpage...\")\n",
    "        response = requests.get(url)\n",
    "        response.raise_for_status()  # Raise exception for bad status codes\n",
    "        html_data = response.text\n",
    "        \n",
    "        # 2. Parse with preferred parser (html5lib if available, otherwise html.parser)\n",
    "        print(\"\\nAttempting to parse HTML...\")\n",
    "        try:\n",
    "            # First try html5lib for better error handling\n",
    "            soup = BeautifulSoup(html_data, 'html5lib')\n",
    "            print(\"Successfully parsed with html5lib\")\n",
    "        except Exception as e:\n",
    "            print(f\"html5lib parser not available: {e}\")\n",
    "            print(\"Falling back to html.parser...\")\n",
    "            soup = BeautifulSoup(html_data, 'html.parser')\n",
    "            print(\"Successfully parsed with html.parser\")\n",
    "        \n",
    "        return soup\n",
    "    \n",
    "    except requests.exceptions.RequestException as e:\n",
    "        print(f\"\\nFailed to download webpage: {e}\")\n",
    "        return None\n",
    "    except Exception as e:\n",
    "        print(f\"\\nAn unexpected error occurred: {e}\")\n",
    "        return None\n",
    "\n",
    "# Example usage:\n",
    "url = \"https://cf-courses-data.s3.us.cloud-object-storage.appdomain.cloud/IBMDeveloperSkillsNetwork-PY0220EN-SkillsNetwork/labs/project/revenue.htm\"\n",
    "soup = get_and_parse_webpage(url)\n",
    "\n",
    "if soup:\n",
    "    # Example: Extract all tables from the page\n",
    "    tables = soup.find_all('table')\n",
    "    print(f\"\\nFound {len(tables)} table(s) in the document\")\n",
    "    \n",
    "    # Example: Show the first 200 characters of the parsed HTML\n",
    "    print(\"\\nFirst 200 characters of parsed HTML:\")\n",
    "    print(str(soup)[:200] + \"...\")\n",
    "else:\n",
    "    print(\"\\nFailed to process webpage\")"
   ]
  },
  {
   "cell_type": "markdown",
   "id": "c8a2795f-20fd-42a5-8886-d0b505bcf79f",
   "metadata": {},
   "source": [
    "Using `BeautifulSoup` or the `read_html` function extract the table with `Tesla Revenue` and store it into a dataframe named `tesla_revenue`. The dataframe should have columns `Date` and `Revenue`.\n"
   ]
  },
  {
   "cell_type": "markdown",
   "id": "da27671a-b7e8-4cd5-a821-fc61bcfc86ff",
   "metadata": {},
   "source": [
    "<details><summary>Step-by-step instructions</summary>\n",
    "\n",
    "```\n",
    "\n",
    "Here are the step-by-step instructions:\n",
    "\n",
    "1. Create an Empty DataFrame\n",
    "2. Find the Relevant Table\n",
    "3. Check for the Tesla Quarterly Revenue Table\n",
    "4. Iterate Through Rows in the Table Body\n",
    "5. Extract Data from Columns\n",
    "6. Append Data to the DataFrame\n",
    "\n",
    "```\n",
    "</details>\n"
   ]
  },
  {
   "cell_type": "markdown",
   "id": "64e73c44-ef98-41fe-a1a7-baf877a2e007",
   "metadata": {},
   "source": [
    "<details><summary>Click here if you need help locating the table</summary>\n",
    "\n",
    "```\n",
    "    \n",
    "Below is the code to isolate the table, you will now need to loop through the rows and columns like in the previous lab\n",
    "    \n",
    "soup.find_all(\"tbody\")[1]\n",
    "    \n",
    "If you want to use the read_html function the table is located at index 1\n",
    "\n",
    "We are focusing on quarterly revenue in the lab.\n",
    "```\n",
    "\n",
    "</details>\n"
   ]
  },
  {
   "cell_type": "code",
   "execution_count": 13,
   "id": "7e253441-4849-42cd-a501-20cbb104c147",
   "metadata": {},
   "outputs": [
    {
     "name": "stdout",
     "output_type": "stream",
     "text": [
      "Installing beautifulsoup4...\n",
      "Installing html5lib...\n",
      "Installing lxml...\n",
      "Downloading webpage...\n",
      "Trying lxml parser...\n",
      "lxml failed: Couldn't find a tree builder with the features you requested: lxml. Do you need to install a parser library?\n",
      "Trying html5lib parser...\n",
      "html5lib failed: Couldn't find a tree builder with the features you requested: html5lib. Do you need to install a parser library?\n",
      "Trying html.parser parser...\n",
      "Searching for Tesla revenue table...\n",
      "Table found! Processing...\n",
      "Successfully extracted Tesla revenue data!\n",
      "\n",
      "First 5 rows of Tesla Revenue Data:\n",
      "         Date  Revenue\n",
      "0  2022-09-30  21454.0\n",
      "1  2022-06-30  16934.0\n",
      "2  2022-03-31  18756.0\n",
      "3  2021-12-31  17719.0\n",
      "4  2021-09-30  13757.0\n"
     ]
    }
   ],
   "source": [
    "import subprocess\n",
    "import sys\n",
    "import pandas as pd\n",
    "from bs4 import BeautifulSoup\n",
    "import requests\n",
    "\n",
    "def install_packages():\n",
    "    required_packages = ['pandas', 'beautifulsoup4', 'html5lib', 'requests', 'lxml']\n",
    "    for package in required_packages:\n",
    "        try:\n",
    "            __import__(package)\n",
    "        except ImportError:\n",
    "            print(f\"Installing {package}...\")\n",
    "            subprocess.check_call([sys.executable, \"-m\", \"pip\", \"install\", package])\n",
    "\n",
    "def get_tesla_revenue():\n",
    "    try:\n",
    "        # Install required packages if missing\n",
    "        install_packages()\n",
    "        \n",
    "        # Download webpage\n",
    "        url = \"https://cf-courses-data.s3.us.cloud-object-storage.appdomain.cloud/IBMDeveloperSkillsNetwork-PY0220EN-SkillsNetwork/labs/project/revenue.htm\"\n",
    "        print(\"Downloading webpage...\")\n",
    "        response = requests.get(url, timeout=10)\n",
    "        response.raise_for_status()\n",
    "        html_data = response.text\n",
    "\n",
    "        # Parse with best available parser\n",
    "        for parser in ['lxml', 'html5lib', 'html.parser']:\n",
    "            try:\n",
    "                print(f\"Trying {parser} parser...\")\n",
    "                soup = BeautifulSoup(html_data, parser)\n",
    "                break\n",
    "            except Exception as e:\n",
    "                print(f\"{parser} failed: {str(e)}\")\n",
    "                continue\n",
    "\n",
    "        # Find Tesla revenue table\n",
    "        print(\"Searching for Tesla revenue table...\")\n",
    "        tables = soup.find_all('table')\n",
    "        for table in tables:\n",
    "            if 'Tesla Quarterly Revenue' in str(table):\n",
    "                print(\"Table found! Processing...\")\n",
    "                df = pd.read_html(str(table))[0]\n",
    "                \n",
    "                # Clean and format dataframe\n",
    "                df.columns = ['Date', 'Revenue']\n",
    "                df['Revenue'] = df['Revenue'].str.replace(r'[$,]', '', regex=True)\n",
    "                df['Revenue'] = pd.to_numeric(df['Revenue'], errors='coerce')\n",
    "                df = df.dropna()\n",
    "                \n",
    "                print(\"Successfully extracted Tesla revenue data!\")\n",
    "                return df\n",
    "\n",
    "        raise ValueError(\"Tesla Revenue table not found\")\n",
    "\n",
    "    except Exception as e:\n",
    "        print(f\"Error: {str(e)}\")\n",
    "        return None\n",
    "\n",
    "# Execute and show results\n",
    "tesla_revenue = get_tesla_revenue()\n",
    "if tesla_revenue is not None:\n",
    "    print(\"\\nFirst 5 rows of Tesla Revenue Data:\")\n",
    "    print(tesla_revenue.head())\n",
    "else:\n",
    "    print(\"Failed to get Tesla revenue data\")"
   ]
  },
  {
   "cell_type": "markdown",
   "id": "4d60e2fb-ae57-4e7d-bbbb-764ff36f8a99",
   "metadata": {},
   "source": [
    "Execute the following line to remove the comma and dollar sign from the `Revenue` column. \n"
   ]
  },
  {
   "cell_type": "code",
   "execution_count": 16,
   "id": "2db8bd02-107b-42ed-8cb5-9f13accc6bea",
   "metadata": {},
   "outputs": [
    {
     "name": "stdout",
     "output_type": "stream",
     "text": [
      "Downloading Tesla revenue data...\n",
      "Cleaning data...\n",
      "Successfully processed Tesla revenue data!\n",
      "\n",
      "First 5 rows of cleaned Tesla Revenue Data:\n",
      "         Date  Revenue\n",
      "0  2022-09-30  21454.0\n",
      "1  2022-06-30  16934.0\n",
      "2  2022-03-31  18756.0\n",
      "3  2021-12-31  17719.0\n",
      "4  2021-09-30  13757.0\n"
     ]
    }
   ],
   "source": [
    "import pandas as pd\n",
    "import requests\n",
    "from bs4 import BeautifulSoup\n",
    "\n",
    "def get_clean_tesla_revenue():\n",
    "    try:\n",
    "        # Step 1: Download the webpage\n",
    "        print(\"Downloading Tesla revenue data...\")\n",
    "        url = \"https://cf-courses-data.s3.us.cloud-object-storage.appdomain.cloud/IBMDeveloperSkillsNetwork-PY0220EN-SkillsNetwork/labs/project/revenue.htm\"\n",
    "        response = requests.get(url, timeout=10)\n",
    "        response.raise_for_status()\n",
    "        html_data = response.text\n",
    "\n",
    "        # Step 2: Parse HTML with best available parser\n",
    "        for parser in ['lxml', 'html.parser', 'html5lib']:\n",
    "            try:\n",
    "                soup = BeautifulSoup(html_data, parser)\n",
    "                break\n",
    "            except:\n",
    "                continue\n",
    "\n",
    "        # Step 3: Find Tesla revenue table\n",
    "        tables = soup.find_all('table')\n",
    "        for table in tables:\n",
    "            if 'Tesla Quarterly Revenue' in str(table):\n",
    "                tesla_revenue = pd.read_html(str(table))[0]\n",
    "                break\n",
    "        else:\n",
    "            raise ValueError(\"Tesla revenue table not found\")\n",
    "\n",
    "        # Step 4: Clean and verify data\n",
    "        print(\"Cleaning data...\")\n",
    "        \n",
    "        # Standardize column names\n",
    "        tesla_revenue.columns = ['Date', 'Revenue']\n",
    "        \n",
    "        # Convert to string and clean\n",
    "        tesla_revenue['Revenue'] = (\n",
    "            tesla_revenue['Revenue']\n",
    "            .astype(str)\n",
    "            .str.replace(r'[$,]', '', regex=True)\n",
    "        )\n",
    "        \n",
    "        # Convert to numeric and drop invalid\n",
    "        tesla_revenue['Revenue'] = pd.to_numeric(tesla_revenue['Revenue'], errors='coerce')\n",
    "        tesla_revenue = tesla_revenue.dropna(subset=['Revenue'])\n",
    "        \n",
    "        # Verify we have data\n",
    "        if tesla_revenue.empty:\n",
    "            raise ValueError(\"No valid revenue data found after cleaning\")\n",
    "            \n",
    "        print(\"Successfully processed Tesla revenue data!\")\n",
    "        return tesla_revenue\n",
    "\n",
    "    except requests.exceptions.RequestException as e:\n",
    "        print(f\"Failed to download data: {e}\")\n",
    "    except ValueError as e:\n",
    "        print(f\"Data processing error: {e}\")\n",
    "    except Exception as e:\n",
    "        print(f\"Unexpected error: {e}\")\n",
    "    return None\n",
    "\n",
    "# Execute and show results\n",
    "tesla_revenue = get_clean_tesla_revenue()\n",
    "if tesla_revenue is not None:\n",
    "    print(\"\\nFirst 5 rows of cleaned Tesla Revenue Data:\")\n",
    "    print(tesla_revenue.head())\n",
    "else:\n",
    "    print(\"Failed to get Tesla revenue data\")\n",
    "\n",
    "# Optional: Save to CSV\n",
    "# tesla_revenue.to_csv('tesla_revenue.csv', index=False)"
   ]
  },
  {
   "cell_type": "markdown",
   "id": "9db9e32d-1b2c-4be2-a42f-194a63c3b383",
   "metadata": {},
   "source": [
    "Execute the following lines to remove an null or empty strings in the Revenue column.\n"
   ]
  },
  {
   "cell_type": "code",
   "execution_count": 17,
   "id": "90506da1-645a-4950-95c9-017c2207463b",
   "metadata": {},
   "outputs": [
    {
     "name": "stdout",
     "output_type": "stream",
     "text": [
      "Cleaned Tesla Revenue Data:\n",
      "         Date  Revenue\n",
      "0  2022-09-30  21454.0\n",
      "1  2022-06-30  16934.0\n",
      "2  2022-03-31  18756.0\n",
      "3  2021-12-31  17719.0\n",
      "4  2021-09-30  13757.0\n",
      "\n",
      "Data types after cleaning:\n",
      "Date        object\n",
      "Revenue    float64\n",
      "dtype: object\n"
     ]
    }
   ],
   "source": [
    "# Remove null/NA values and empty strings from Revenue column\n",
    "tesla_revenue.dropna(subset=['Revenue'], inplace=True)  # Removes NaN values\n",
    "tesla_revenue = tesla_revenue[tesla_revenue['Revenue'] != \"\"]  # Removes empty strings\n",
    "\n",
    "# Additional verification and conversion to ensure clean numeric data\n",
    "tesla_revenue['Revenue'] = pd.to_numeric(tesla_revenue['Revenue'], errors='coerce')\n",
    "tesla_revenue.dropna(subset=['Revenue'], inplace=True)  # Final cleanup after conversion\n",
    "\n",
    "# Verify the results\n",
    "print(\"Cleaned Tesla Revenue Data:\")\n",
    "print(tesla_revenue.head())\n",
    "print(\"\\nData types after cleaning:\")\n",
    "print(tesla_revenue.dtypes)"
   ]
  },
  {
   "cell_type": "markdown",
   "id": "dfec803d-3fda-47d0-9034-639bdfc84150",
   "metadata": {},
   "source": [
    "Display the last 5 row of the `tesla_revenue` dataframe using the `tail` function. Take a screenshot of the results.\n"
   ]
  },
  {
   "cell_type": "code",
   "execution_count": 18,
   "metadata": {},
   "outputs": [
    {
     "name": "stdout",
     "output_type": "stream",
     "text": [
      "          Date  Revenue\n",
      "48  2010-09-30     31.0\n",
      "49  2010-06-30     28.0\n",
      "50  2010-03-31     21.0\n",
      "52  2009-09-30     46.0\n",
      "53  2009-06-30     27.0\n"
     ]
    }
   ],
   "source": [
    "# Display the last 5 rows\n",
    "print(tesla_revenue.tail())"
   ]
  },
  {
   "cell_type": "code",
   "execution_count": 19,
   "metadata": {},
   "outputs": [
    {
     "name": "stdout",
     "output_type": "stream",
     "text": [
      "Last 5 rows of cleaned Tesla Revenue Data:\n",
      "          Date  Revenue\n",
      "48  2010-09-30     31.0\n",
      "49  2010-06-30     28.0\n",
      "50  2010-03-31     21.0\n",
      "52  2009-09-30     46.0\n",
      "53  2009-06-30     27.0\n"
     ]
    }
   ],
   "source": [
    "# First ensure complete cleaning was done\n",
    "tesla_revenue['Revenue'] = pd.to_numeric(tesla_revenue['Revenue'], errors='coerce')\n",
    "tesla_revenue.dropna(subset=['Revenue'], inplace=True)\n",
    "\n",
    "# Now display the cleaned last 5 rows\n",
    "print(\"Last 5 rows of cleaned Tesla Revenue Data:\")\n",
    "print(tesla_revenue.tail())"
   ]
  },
  {
   "cell_type": "code",
   "execution_count": null,
   "id": "b35d3f47-71a2-42c8-a147-60987dbcc9be",
   "metadata": {},
   "outputs": [],
   "source": []
  },
  {
   "cell_type": "markdown",
   "id": "6abe0099-0fa7-4925-8d8f-443e8740d4cb",
   "metadata": {},
   "source": [
    "## Question 3: Use yfinance to Extract Stock Data\n"
   ]
  },
  {
   "cell_type": "markdown",
   "id": "0be2586c-c268-498f-b675-c72ab53a49b0",
   "metadata": {},
   "source": [
    "Using the `Ticker` function enter the ticker symbol of the stock we want to extract data on to create a ticker object. The stock is GameStop and its ticker symbol is `GME`.\n"
   ]
  },
  {
   "cell_type": "code",
   "execution_count": 20,
   "id": "9569972e-333e-48c9-83b2-dc39d6a61351",
   "metadata": {},
   "outputs": [
    {
     "name": "stdout",
     "output_type": "stream",
     "text": [
      "First 5 rows of GameStop stock data:\n",
      "                       Date      Open      High       Low     Close    Volume  \\\n",
      "0 2002-02-13 00:00:00-05:00  1.620128  1.693350  1.603296  1.691667  76216000   \n",
      "1 2002-02-14 00:00:00-05:00  1.712707  1.716074  1.670626  1.683250  11021600   \n",
      "2 2002-02-15 00:00:00-05:00  1.683251  1.687459  1.658002  1.674834   8389600   \n",
      "3 2002-02-19 00:00:00-05:00  1.666418  1.666418  1.578047  1.607504   7410400   \n",
      "4 2002-02-20 00:00:00-05:00  1.615920  1.662209  1.603295  1.662209   6892800   \n",
      "\n",
      "   Dividends  Stock Splits  \n",
      "0        0.0           0.0  \n",
      "1        0.0           0.0  \n",
      "2        0.0           0.0  \n",
      "3        0.0           0.0  \n",
      "4        0.0           0.0  \n",
      "\n",
      "Last 5 rows of GameStop stock data:\n",
      "                          Date       Open       High        Low      Close  \\\n",
      "5889 2025-07-11 00:00:00-04:00  23.129999  24.049999  23.129999  23.330000   \n",
      "5890 2025-07-14 00:00:00-04:00  23.440001  23.840000  23.389999  23.700001   \n",
      "5891 2025-07-15 00:00:00-04:00  23.660000  23.680000  23.170000  23.219999   \n",
      "5892 2025-07-16 00:00:00-04:00  23.400000  23.850000  23.309999  23.680000   \n",
      "5893 2025-07-17 00:00:00-04:00  23.540001  23.719999  23.379999  23.400000   \n",
      "\n",
      "        Volume  Dividends  Stock Splits  \n",
      "5889  11454100        0.0           0.0  \n",
      "5890   7769600        0.0           0.0  \n",
      "5891   7321600        0.0           0.0  \n",
      "5892   7738300        0.0           0.0  \n",
      "5893   7276500        0.0           0.0  \n"
     ]
    }
   ],
   "source": [
    "import yfinance as yf\n",
    "\n",
    "# Create a Ticker object for GameStop\n",
    "gme = yf.Ticker(\"GME\")\n",
    "\n",
    "# Extract historical data with maximum available period\n",
    "gme_data = gme.history(period=\"max\")\n",
    "\n",
    "# Reset the index and display first five rows\n",
    "gme_data.reset_index(inplace=True)\n",
    "print(\"First 5 rows of GameStop stock data:\")\n",
    "print(gme_data.head())\n",
    "\n",
    "# Display last 5 rows using tail()\n",
    "print(\"\\nLast 5 rows of GameStop stock data:\")\n",
    "print(gme_data.tail())"
   ]
  },
  {
   "cell_type": "markdown",
   "id": "30024826-f960-499d-b4b1-028f35cbedb5",
   "metadata": {},
   "source": [
    "Using the ticker object and the function `history` extract stock information and save it in a dataframe named `gme_data`. Set the `period` parameter to ` \"max\" ` so we get information for the maximum amount of time.\n"
   ]
  },
  {
   "cell_type": "code",
   "execution_count": 21,
   "id": "4f8d709e-59ab-4ced-8cd2-b416e4a733a1",
   "metadata": {},
   "outputs": [
    {
     "name": "stdout",
     "output_type": "stream",
     "text": [
      "Extracted 5894 rows of GameStop historical data\n",
      "Date range: 2002-02-13 to 2025-07-17\n",
      "\n",
      "Data structure:\n",
      "                               Open      High       Low     Close    Volume  \\\n",
      "Date                                                                          \n",
      "2002-02-13 00:00:00-05:00  1.620129  1.693350  1.603296  1.691667  76216000   \n",
      "2002-02-14 00:00:00-05:00  1.712707  1.716074  1.670626  1.683250  11021600   \n",
      "2002-02-15 00:00:00-05:00  1.683251  1.687459  1.658002  1.674834   8389600   \n",
      "2002-02-19 00:00:00-05:00  1.666418  1.666418  1.578047  1.607504   7410400   \n",
      "2002-02-20 00:00:00-05:00  1.615921  1.662210  1.603296  1.662210   6892800   \n",
      "\n",
      "                           Dividends  Stock Splits  \n",
      "Date                                                \n",
      "2002-02-13 00:00:00-05:00        0.0           0.0  \n",
      "2002-02-14 00:00:00-05:00        0.0           0.0  \n",
      "2002-02-15 00:00:00-05:00        0.0           0.0  \n",
      "2002-02-19 00:00:00-05:00        0.0           0.0  \n",
      "2002-02-20 00:00:00-05:00        0.0           0.0  \n"
     ]
    }
   ],
   "source": [
    "import yfinance as yf\n",
    "\n",
    "# Create Ticker object for GameStop\n",
    "gme = yf.Ticker(\"GME\")\n",
    "\n",
    "# Extract maximum historical data\n",
    "gme_data = gme.history(period=\"max\")\n",
    "\n",
    "# Display information about the extracted data\n",
    "print(f\"Extracted {len(gme_data)} rows of GameStop historical data\")\n",
    "print(f\"Date range: {gme_data.index[0].date()} to {gme_data.index[-1].date()}\")\n",
    "print(\"\\nData structure:\")\n",
    "print(gme_data.head())"
   ]
  },
  {
   "cell_type": "markdown",
   "id": "47fd7a49-0bcd-48c6-b8d9-b001c0eee176",
   "metadata": {},
   "source": [
    "**Reset the index** using the `reset_index(inplace=True)` function on the gme_data DataFrame and display the first five rows of the `gme_data` dataframe using the `head` function. Take a screenshot of the results and code from the beginning of Question 3 to the results below.\n"
   ]
  },
  {
   "cell_type": "code",
   "execution_count": 22,
   "id": "755bf020-bd34-473c-831b-af8b73305856",
   "metadata": {},
   "outputs": [
    {
     "name": "stderr",
     "output_type": "stream",
     "text": [
      "$GME: possibly delisted; no price data found  (1d 1926-08-12 -> 2025-07-18)\n"
     ]
    },
    {
     "name": "stdout",
     "output_type": "stream",
     "text": [
      "First 5 rows of GameStop historical data:\n",
      "Empty DataFrame\n",
      "Columns: [Date, Open, High, Low, Close, Adj Close, Volume]\n",
      "Index: []\n"
     ]
    }
   ],
   "source": [
    "import yfinance as yf\n",
    "\n",
    "# Question 3: Extract GameStop Stock Data\n",
    "gme = yf.Ticker(\"GME\")  # Create Ticker object\n",
    "gme_data = gme.history(period=\"max\")  # Get all available historical data\n",
    "\n",
    "# Reset the index and display first 5 rows\n",
    "gme_data.reset_index(inplace=True)\n",
    "print(\"First 5 rows of GameStop historical data:\")\n",
    "print(gme_data.head())"
   ]
  },
  {
   "cell_type": "markdown",
   "id": "2aac8c6e-2885-4a8c-b978-095710dcf0f4",
   "metadata": {},
   "source": [
    "## Question 4: Use Webscraping to Extract GME Revenue Data\n"
   ]
  },
  {
   "cell_type": "markdown",
   "id": "13ca9ffa-69c3-41b6-b777-8cafd346fdf8",
   "metadata": {},
   "source": [
    "Use the `requests` library to download the webpage https://cf-courses-data.s3.us.cloud-object-storage.appdomain.cloud/IBMDeveloperSkillsNetwork-PY0220EN-SkillsNetwork/labs/project/stock.html. Save the text of the response as a variable named `html_data_2`.\n"
   ]
  },
  {
   "cell_type": "code",
   "execution_count": 23,
   "id": "7c81c3c8-e0fb-40d9-9328-c65b1ce86fcf",
   "metadata": {},
   "outputs": [
    {
     "name": "stdout",
     "output_type": "stream",
     "text": [
      "Webpage downloaded successfully!\n",
      "Length of HTML content: 88703 characters\n"
     ]
    }
   ],
   "source": [
    "import requests\n",
    "\n",
    "# Download the webpage\n",
    "url = \"https://cf-courses-data.s3.us.cloud-object-storage.appdomain.cloud/IBMDeveloperSkillsNetwork-PY0220EN-SkillsNetwork/labs/project/stock.html\"\n",
    "response = requests.get(url)\n",
    "\n",
    "# Save the response text\n",
    "html_data_2 = response.text\n",
    "\n",
    "# Verify the download was successful\n",
    "if response.status_code == 200:\n",
    "    print(\"Webpage downloaded successfully!\")\n",
    "    print(f\"Length of HTML content: {len(html_data_2)} characters\")\n",
    "else:\n",
    "    print(f\"Failed to download webpage. Status code: {response.status_code}\")"
   ]
  },
  {
   "cell_type": "markdown",
   "id": "c4c0ce03-0c3b-43a3-a3ef-74b33f306a7e",
   "metadata": {},
   "source": [
    "Parse the html data using `beautiful_soup` using parser i.e `html5lib` or `html.parser`.\n"
   ]
  },
  {
   "cell_type": "code",
   "execution_count": 24,
   "id": "45646667-963d-4061-ace2-364dfc54ee77",
   "metadata": {},
   "outputs": [
    {
     "name": "stdout",
     "output_type": "stream",
     "text": [
      "html5lib parser failed: Couldn't find a tree builder with the features you requested: html5lib. Do you need to install a parser library?\n",
      "Falling back to html.parser...\n",
      "Successfully parsed with html.parser\n",
      "\n",
      "Page title: GameStop Revenue 2006-2020 | GME | MacroTrends\n",
      "\n",
      "Found 6 table(s) in the document\n"
     ]
    }
   ],
   "source": [
    "from bs4 import BeautifulSoup\n",
    "\n",
    "# Parse using html5lib (more forgiving) - requires installation: pip install html5lib\n",
    "try:\n",
    "    soup_html5lib = BeautifulSoup(html_data_2, 'html5lib')\n",
    "    print(\"Successfully parsed with html5lib\")\n",
    "except Exception as e:\n",
    "    print(f\"html5lib parser failed: {e}\\nFalling back to html.parser...\")\n",
    "    soup_html5lib = None\n",
    "\n",
    "# Parse using html.parser (built-in, always available)\n",
    "soup_htmlparser = BeautifulSoup(html_data_2, 'html.parser')\n",
    "print(\"Successfully parsed with html.parser\")\n",
    "\n",
    "# Use the best available soup object\n",
    "soup = soup_html5lib if soup_html5lib is not None else soup_htmlparser\n",
    "\n",
    "# Verify parsing by checking the title\n",
    "print(\"\\nPage title:\", soup.title.text if soup.title else \"No title found\")\n",
    "\n",
    "# Example: Find all tables in the parsed HTML\n",
    "tables = soup.find_all('table')\n",
    "print(f\"\\nFound {len(tables)} table(s) in the document\")"
   ]
  },
  {
   "cell_type": "markdown",
   "id": "08bca61e-53ae-4fb3-a80e-7069730e649b",
   "metadata": {},
   "source": [
    "Using `BeautifulSoup` or the `read_html` function extract the table with `GameStop Revenue` and store it into a dataframe named `gme_revenue`. The dataframe should have columns `Date` and `Revenue`. Make sure the comma and dollar sign is removed from the `Revenue` column.\n"
   ]
  },
  {
   "cell_type": "markdown",
   "id": "5d2c8034-b806-4ec4-82f4-9ea0dfaf048c",
   "metadata": {},
   "source": [
    "> **Note: Use the method similar to what you did in question 2.**  \n"
   ]
  },
  {
   "cell_type": "markdown",
   "id": "36d29780-8d79-4f84-a139-32bcc8575648",
   "metadata": {},
   "source": [
    "<details><summary>Click here if you need help locating the table</summary>\n",
    "\n",
    "```\n",
    "    \n",
    "Below is the code to isolate the table, you will now need to loop through the rows and columns like in the previous lab\n",
    "    \n",
    "soup.find_all(\"tbody\")[1]\n",
    "    \n",
    "If you want to use the read_html function the table is located at index 1\n",
    "\n",
    "\n",
    "```\n",
    "\n",
    "</details>\n"
   ]
  },
  {
   "cell_type": "code",
   "execution_count": 25,
   "id": "5300c971-0eb3-49cf-b0a7-b166135b8a36",
   "metadata": {},
   "outputs": [
    {
     "name": "stdout",
     "output_type": "stream",
     "text": [
      "GameStop Revenue Data:\n",
      "         Date  Revenue\n",
      "0  2020-04-30     1021\n",
      "1  2020-01-31     2194\n",
      "2  2019-10-31     1439\n",
      "3  2019-07-31     1286\n",
      "4  2019-04-30     1548\n",
      "\n",
      "Data types:\n",
      "Date       object\n",
      "Revenue     int64\n",
      "dtype: object\n"
     ]
    }
   ],
   "source": [
    "import pandas as pd\n",
    "from bs4 import BeautifulSoup\n",
    "\n",
    "# Parse the HTML\n",
    "soup = BeautifulSoup(html_data_2, 'html.parser')\n",
    "\n",
    "# Method 1: Using BeautifulSoup with pandas\n",
    "# Find all tables and identify the GameStop Revenue table\n",
    "tables = soup.find_all('table')\n",
    "for table in tables:\n",
    "    if 'GameStop Quarterly Revenue' in str(table):\n",
    "        gme_revenue = pd.read_html(str(table))[0]\n",
    "        break\n",
    "\n",
    "# Method 2: Alternative using pandas read_html directly\n",
    "# gme_revenue = pd.read_html(html_data_2, match='GameStop Quarterly Revenue')[0]\n",
    "\n",
    "# Clean and format the dataframe\n",
    "gme_revenue.columns = ['Date', 'Revenue']  # Rename columns\n",
    "gme_revenue['Revenue'] = gme_revenue['Revenue'].str.replace(r'[$,]', '', regex=True)  # Remove $ and commas\n",
    "gme_revenue['Revenue'] = pd.to_numeric(gme_revenue['Revenue'], errors='coerce')  # Convert to numeric\n",
    "gme_revenue = gme_revenue.dropna(subset=['Revenue'])  # Remove rows with invalid revenue data\n",
    "\n",
    "# Display the cleaned dataframe\n",
    "print(\"GameStop Revenue Data:\")\n",
    "print(gme_revenue.head())\n",
    "print(\"\\nData types:\")\n",
    "print(gme_revenue.dtypes)"
   ]
  },
  {
   "cell_type": "markdown",
   "id": "8b8431ae-6ddd-4e9e-93c9-79af28a0c906",
   "metadata": {},
   "source": [
    "Display the last five rows of the `gme_revenue` dataframe using the `tail` function. Take a screenshot of the results.\n"
   ]
  },
  {
   "cell_type": "code",
   "execution_count": 26,
   "id": "875c38f8-8ba0-4ad2-8882-fee2c7cb1e94",
   "metadata": {},
   "outputs": [
    {
     "name": "stdout",
     "output_type": "stream",
     "text": [
      "Last 5 rows of GameStop Revenue Data:\n",
      "          Date  Revenue\n",
      "57  2006-01-31     1667\n",
      "58  2005-10-31      534\n",
      "59  2005-07-31      416\n",
      "60  2005-04-30      475\n",
      "61  2005-01-31      709\n"
     ]
    }
   ],
   "source": [
    "# Display last 5 rows of GameStop revenue data\n",
    "print(\"Last 5 rows of GameStop Revenue Data:\")\n",
    "print(gme_revenue.tail())"
   ]
  },
  {
   "cell_type": "markdown",
   "id": "ad78102c-5163-4e5b-802d-c943f0643383",
   "metadata": {},
   "source": [
    "## Question 5: Plot Tesla Stock Graph\n"
   ]
  },
  {
   "cell_type": "markdown",
   "id": "45eada3d-7497-4376-bc47-27c5cc7e2c98",
   "metadata": {},
   "source": [
    "Use the `make_graph` function to graph the Tesla Stock Data, also provide a title for the graph. Note the graph will only show data upto June 2021.\n"
   ]
  },
  {
   "cell_type": "markdown",
   "id": "7d0e9023-8f10-4bbf-a0f8-1e4301b90aed",
   "metadata": {},
   "source": [
    "<details><summary>Hint</summary>\n",
    "\n",
    "```\n",
    "\n",
    "You just need to invoke the make_graph function with the required parameter to print the graphs.The structure to call the `make_graph` function is `make_graph(tesla_data, tesla_revenue, 'Tesla')`.\n",
    "\n",
    "```\n",
    "    \n",
    "</details>\n"
   ]
  },
  {
   "cell_type": "code",
   "execution_count": 28,
   "id": "3e4a570f-e47f-44ad-b58a-13b08497611f",
   "metadata": {},
   "outputs": [
    {
     "data": {
      "image/png": "[encoded data removed]",
      "text/plain": [
       "<Figure size 1200x600 with 2 Axes>"
      ]
     },
     "metadata": {},
     "output_type": "display_data"
    }
   ],
   "source": [
    "import matplotlib.pyplot as plt\n",
    "import pandas as pd\n",
    "\n",
    "def make_graph(stock_data, revenue_data, title):\n",
    "    plt.figure(figsize=(12, 6))\n",
    "    \n",
    "    # Convert dates to datetime if needed\n",
    "    stock_data['Date'] = pd.to_datetime(stock_data['Date'])\n",
    "    revenue_data['Date'] = pd.to_datetime(revenue_data['Date'])\n",
    "    \n",
    "    # Filter data up to June 2021\n",
    "    stock_data = stock_data[stock_data['Date'] <= '2021-06-30']\n",
    "    revenue_data = revenue_data[revenue_data['Date'] <= '2021-06-30']\n",
    "    \n",
    "    # Plot stock data\n",
    "    plt.plot(stock_data['Date'], stock_data['Close'], \n",
    "            label='Tesla Closing Price', color='blue')\n",
    "    \n",
    "    # Create second y-axis for revenue\n",
    "    ax2 = plt.twinx()\n",
    "    ax2.plot(revenue_data['Date'], revenue_data['Revenue'], \n",
    "            label='Revenue (Millions)', color='green', linestyle='--')\n",
    "    \n",
    "    # Formatting\n",
    "    plt.title(title)\n",
    "    plt.xlabel('Year')\n",
    "    plt.ylabel('Stock Price ($)', color='blue')\n",
    "    ax2.set_ylabel('Revenue ($ Millions)', color='green')\n",
    "    \n",
    "    # Add legends\n",
    "    lines1, labels1 = plt.gca().get_legend_handles_labels()\n",
    "    lines2, labels2 = ax2.get_legend_handles_labels()\n",
    "    plt.legend(lines1 + lines2, labels1 + labels2, loc='upper left')\n",
    "    \n",
    "    plt.grid(True)\n",
    "    plt.tight_layout()\n",
    "    plt.show()\n",
    "\n",
    "# Verify and clean data\n",
    "tesla_data['Date'] = pd.to_datetime(tesla_data['Date'])\n",
    "tesla_revenue['Date'] = pd.to_datetime(tesla_revenue['Date'])\n",
    "\n",
    "# Generate the graph\n",
    "make_graph(tesla_data, tesla_revenue, 'Tesla Stock Price and Revenue (Up to June 2021)')"
   ]
  },
  {
   "cell_type": "markdown",
   "id": "f0f09c61-16f3-4235-b30b-ae10eb5369c4",
   "metadata": {},
   "source": [
    "## Question 6: Plot GameStop Stock Graph\n"
   ]
  },
  {
   "cell_type": "markdown",
   "id": "9924b9a9-8eac-4b07-ad9c-f17c2ca2f407",
   "metadata": {},
   "source": [
    "Use the `make_graph` function to graph the GameStop Stock Data, also provide a title for the graph. The structure to call the `make_graph` function is `make_graph(gme_data, gme_revenue, 'GameStop')`. Note the graph will only show data upto June 2021.\n"
   ]
  },
  {
   "cell_type": "markdown",
   "id": "5df489ff-9824-454e-b453-19cab43eb872",
   "metadata": {},
   "source": [
    "<details><summary>Hint</summary>\n",
    "\n",
    "```\n",
    "\n",
    "You just need to invoke the make_graph function with the required parameter to print the graphs.The structure to call the `make_graph` function is `make_graph(gme_data, gme_revenue, 'GameStop')`\n",
    "\n",
    "```\n",
    "    \n",
    "</details>\n"
   ]
  },
  {
   "cell_type": "code",
   "execution_count": 29,
   "id": "a538ba1b-8a36-4dd1-880e-0088085a76f4",
   "metadata": {},
   "outputs": [
    {
     "data": {
      "image/png": "[encoded data removed]",
      "text/plain": [
       "<Figure size 1400x700 with 2 Axes>"
      ]
     },
     "metadata": {},
     "output_type": "display_data"
    }
   ],
   "source": [
    "import matplotlib.pyplot as plt\n",
    "import pandas as pd\n",
    "\n",
    "def make_graph(stock_data, revenue_data, title):\n",
    "    # Convert dates to datetime and filter\n",
    "    stock_data['Date'] = pd.to_datetime(stock_data['Date'])\n",
    "    revenue_data['Date'] = pd.to_datetime(revenue_data['Date'])\n",
    "    stock_data = stock_data[stock_data['Date'] <= '2021-06-30']\n",
    "    revenue_data = revenue_data[revenue_data['Date'] <= '2021-06-30']\n",
    "    \n",
    "    # Create figure and primary axis\n",
    "    fig, ax1 = plt.subplots(figsize=(14,7))\n",
    "    \n",
    "    # Plot stock closing prices\n",
    "    color = 'tab:red'\n",
    "    ax1.set_xlabel('Date')\n",
    "    ax1.set_ylabel('Stock Price ($)', color=color)\n",
    "    ax1.plot(stock_data['Date'], stock_data['Close'], color=color, label='Stock Price')\n",
    "    ax1.tick_params(axis='y', labelcolor=color)\n",
    "    \n",
    "    # Create secondary axis for revenue\n",
    "    ax2 = ax1.twinx()\n",
    "    color = 'tab:blue'\n",
    "    ax2.set_ylabel('Revenue ($ Millions)', color=color)\n",
    "    ax2.plot(revenue_data['Date'], revenue_data['Revenue'], \n",
    "             color=color, linestyle='--', label='Revenue')\n",
    "    ax2.tick_params(axis='y', labelcolor=color)\n",
    "    \n",
    "    # Add title and legends\n",
    "    plt.title(f'{title} Stock Price and Revenue (Up to June 2021)')\n",
    "    lines1, labels1 = ax1.get_legend_handles_labels()\n",
    "    lines2, labels2 = ax2.get_legend_handles_labels()\n",
    "    ax1.legend(lines1 + lines2, labels1 + labels2, loc='upper left')\n",
    "    \n",
    "    plt.grid(True)\n",
    "    plt.tight_layout()\n",
    "    plt.show()\n",
    "\n",
    "# Generate the graph\n",
    "make_graph(gme_data, gme_revenue, 'GameStop')"
   ]
  },
  {
   "cell_type": "markdown",
   "id": "5ca49323-b1b5-407d-9656-bba9c172c3f4",
   "metadata": {},
   "source": [
    "<h2>About the Authors:</h2> \n",
    "\n",
    "<a href=\"https://www.linkedin.com/in/joseph-s-50398b136/\">Joseph Santarcangelo</a> has a PhD in Electrical Engineering, his research focused on using machine learning, signal processing, and computer vision to determine how videos impact human cognition. Joseph has been working for IBM since he completed his PhD.\n",
    "\n",
    "Azim Hirjani\n"
   ]
  },
  {
   "cell_type": "markdown",
   "id": "9f657d8c-23ff-4145-9af2-126156342d4a",
   "metadata": {},
   "source": [
    "## Change Log\n",
    "\n",
    "| Date (YYYY-MM-DD) | Version | Changed By    | Change Description        |\n",
    "| ----------------- | ------- | ------------- | ------------------------- |\n",
    "| 2022-02-28        | 1.2     | Lakshmi Holla | Changed the URL of GameStop |\n",
    "| 2020-11-10        | 1.1     | Malika Singla | Deleted the Optional part |\n",
    "| 2020-08-27        | 1.0     | Malika Singla | Added lab to GitLab       |\n",
    "\n",
    "<hr>\n",
    "\n",
    "## <h3 align=\"center\"> © IBM Corporation 2020. All rights reserved. <h3/>\n",
    "\n",
    "<p>\n"
   ]
  }
 ],
 "metadata": {
  "kernelspec": {
   "display_name": "Python 3",
   "language": "python",
   "name": "python3"
  },
  "language_info": {
   "codemirror_mode": {
    "name": "ipython",
    "version": 3
   },
   "file_extension": ".py",
   "mimetype": "text/x-python",
   "name": "python",
   "nbconvert_exporter": "python",
   "pygments_lexer": "ipython3",
   "version": "3.13.5"
  },
  "prev_pub_hash": "a254c181ff89ab7bfd41849357df0b3716744f3a6dc743cb8ee1d0c6ffe92fcd"
 },
 "nbformat": 4,
 "nbformat_minor": 4
}
